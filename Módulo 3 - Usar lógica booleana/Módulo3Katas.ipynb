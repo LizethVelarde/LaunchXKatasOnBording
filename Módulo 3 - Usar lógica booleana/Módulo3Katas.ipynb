{
 "cells": [
  {
   "cell_type": "markdown",
   "metadata": {},
   "source": [
    "## Escribir declaraciones if, else, y elif"
   ]
  },
  {
   "cell_type": "markdown",
   "metadata": {},
   "source": [
    "### Problema No. 1"
   ]
  },
  {
   "cell_type": "code",
   "execution_count": 20,
   "metadata": {},
   "outputs": [
    {
     "name": "stdout",
     "output_type": "stream",
     "text": [
      "¡Advertencia! ¡Un asteroide se aproxima\n"
     ]
    }
   ],
   "source": [
    "asteroide = 49\n",
    "if asteroide > 25:\n",
    "    print('¡Advertencia! ¡Un asteroide se aproxima')"
   ]
  },
  {
   "cell_type": "markdown",
   "metadata": {},
   "source": [
    "### Problema No. 2"
   ]
  },
  {
   "cell_type": "code",
   "execution_count": 16,
   "metadata": {},
   "outputs": [
    {
     "name": "stdout",
     "output_type": "stream",
     "text": [
      "¡No se puede observar nada en el cielo!\n"
     ]
    }
   ],
   "source": [
    "asteroide = 19\n",
    "if asteroide > 20:\n",
    "    print('¡Se puede observar un rayo de luz en el cielo!')\n",
    "elif asteroide == 20:\n",
    "    print('¡Se puede observar un rayo de luz en el cielo!')\n",
    "else:\n",
    "    print('¡No se puede observar nada en el cielo!')"
   ]
  },
  {
   "cell_type": "markdown",
   "metadata": {},
   "source": [
    "## Uso de operadores and y or"
   ]
  },
  {
   "cell_type": "markdown",
   "metadata": {},
   "source": [
    "### Problema No. 3"
   ]
  },
  {
   "cell_type": "code",
   "execution_count": 18,
   "metadata": {},
   "outputs": [
    {
     "name": "stdout",
     "output_type": "stream",
     "text": [
      "¡Se puede observar un rayo de luz en el cielo!\n"
     ]
    }
   ],
   "source": [
    "tamaño_asteroide = 50\n",
    "velocidad_asteroide = 25\n",
    "if tamaño_asteroide > 25 and velocidad_asteroide > 25:\n",
    "    print('¡Alerta! Un asteroide se aproxima')\n",
    "elif velocidad_asteroide >= 20:\n",
    "    print('¡Se puede observar un rayo de luz en el cielo!')\n",
    "elif velocidad_asteroide < 25:\n",
    "    print('No hay nada que observar en el cielo')\n",
    "else:\n",
    "    print('No hay nada que observar en el cielo')\n",
    "\n"
   ]
  }
 ],
 "metadata": {
  "interpreter": {
   "hash": "a8aea3ce8401cf3ac9540900b9d2233b7484403007d319e4ae7e8c059f92a3a9"
  },
  "kernelspec": {
   "display_name": "Python 3.10.2 64-bit",
   "language": "python",
   "name": "python3"
  },
  "language_info": {
   "codemirror_mode": {
    "name": "ipython",
    "version": 3
   },
   "file_extension": ".py",
   "mimetype": "text/x-python",
   "name": "python",
   "nbconvert_exporter": "python",
   "pygments_lexer": "ipython3",
   "version": "3.10.2"
  },
  "orig_nbformat": 4
 },
 "nbformat": 4,
 "nbformat_minor": 2
}
